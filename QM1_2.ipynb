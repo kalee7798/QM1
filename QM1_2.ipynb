{
  "nbformat": 4,
  "nbformat_minor": 0,
  "metadata": {
    "colab": {
      "provenance": [],
      "machine_shape": "hm"
    },
    "kernelspec": {
      "name": "python3",
      "display_name": "Python 3"
    },
    "language_info": {
      "name": "python"
    },
    "gpuClass": "standard"
  },
  "cells": [
    {
      "cell_type": "code",
      "execution_count": null,
      "metadata": {
        "id": "pZpMCsuJh2cr"
      },
      "outputs": [],
      "source": [
        "import matplotlib as plt\n",
        "import math\n",
        "import decimal"
      ]
    },
    {
      "cell_type": "code",
      "source": [
        "#constants\n",
        "e = 1.6 * 10**-19\n",
        "pi = 3.141592654\n",
        "ez = 8.854187817 * 10**-12\n",
        "r0 = 1.2 #fm\n",
        "x = 9 * 10**9\n",
        "h = 6.626 * 10**-34 #(m^2)kg/s [plank's constant]\n",
        "#h = 4.135 * (10**-15) #eVs"
      ],
      "metadata": {
        "id": "4etdQgEzigNs"
      },
      "execution_count": null,
      "outputs": []
    },
    {
      "cell_type": "code",
      "source": [
        "import sympy as sp\n",
        "from sympy import symbols, Eq, solve   \n",
        "Z1 = 1\n",
        "Z2 = 1\n",
        "MA = 1.00784\n",
        "MB = 1.00784\n",
        "L = 100\n",
        "RA = r0 * (MA ** (1/3)) #returns fm\n",
        "RB = r0 * (MB ** (1/3)) #fm\n",
        "d = RA + RB\n",
        "J = (Z1*Z2*(e**2))/(4*pi*ez*(d*(10**-15)))\n",
        "V = J * (6.242 * (10**12))\n",
        "\n",
        "#E = E * (10**6)\n",
        "V = V * (10**6)\n",
        "m = MA * (1.6605402 * (10**-27)) #turn into kg\n",
        "L = L * (10**-12)\n",
        "A = (-4*L*pi)/h\n",
        "#B = (V-E)*(1.6*(10**-19)) #convert into J\n",
        "#C = math.sqrt(2*m*(B))\n",
        "#P = math.exp(A*C)\n",
        "\n",
        "x = symbols('x')\n",
        "eq1 = Eq((sp.exp(A*(sp.sqrt(2*m*((V-x)*(1.6*(10**-19))))))),90)\n",
        "\n",
        "print(solve(eq1), x)\n"
      ],
      "metadata": {
        "id": "mig3joJLjsD5"
      },
      "execution_count": null,
      "outputs": []
    },
    {
      "cell_type": "code",
      "source": [
        "from re import M\n",
        "#calculating height of Coulomb's Barrier\n",
        "def height(Z1,Z2,MA,MB): #charge 1, charge 2, mass 1, mass 2\n",
        "  RA = r0 * (MA ** (1/3)) #returns fm\n",
        "  RB = r0 * (MB ** (1/3)) #fm\n",
        "  d = RA + RB\n",
        "  J = (Z1*Z2*(e**2))/(4*pi*ez*(d*(10**-15)))\n",
        "  MeV = J * (6.242 * (10**12))\n",
        "  return str(MeV) + \" MeV\"\n",
        "\n",
        "def convert (MeV):\n",
        "  eV = MeV * 1000000\n",
        "  return eV\n",
        "\n",
        "\n",
        "#test 1 with beryllium and beryllium\n",
        "test1= height(4,4,9,9)\n",
        "#test 2 with lithium and lithum (nuclei only)\n",
        "test2 = height(3,3,7,7)\n",
        "#test 3 with titanium and sodium\n",
        "test3 = height(22,11,47.87,22.99)\n",
        "#test 4 with hydrogen and hydrogen\n",
        "test4 = height(1,1,1.01,1.01)\n",
        "\n",
        "test4a = convert(0.059964216993731775)\n",
        "\n",
        "#testing\n",
        "print(test1)\n",
        "print(test2)\n",
        "print(test3)\n",
        "print(test4)\n",
        "print (\"\")\n",
        "print(test4a)\n"
      ],
      "metadata": {
        "colab": {
          "base_uri": "https://localhost:8080/"
        },
        "id": "I8QFdg0xh7Cq",
        "outputId": "2f4a7f92-20e6-438a-dc80-e1a79aea03ca"
      },
      "execution_count": null,
      "outputs": [
        {
          "output_type": "stream",
          "name": "stdout",
          "text": [
            "4.602915899734627 MeV\n",
            "2.8153802294743397 MeV\n",
            "44.73412203873649 MeV\n",
            "0.5964216993731775 MeV\n",
            "\n",
            "59964.21699373178\n"
          ]
        }
      ]
    },
    {
      "cell_type": "code",
      "source": [
        "from IPython.testing import test\n",
        "#calculating probability of tunneling\n",
        "\n",
        "def POT(E,V,L,m):\n",
        "#E = total kinetic energy in eV\n",
        "#V = height of barier in eV\n",
        "#L = width of barrier in pm\n",
        "#m = mass of particle\n",
        "  E = E * (10**6)\n",
        "  V = V * (10**6)\n",
        "  m = m * (1.6605402 * (10**-27)) #turn into kg\n",
        "  L = L * (10**-12)\n",
        "  A = (-4*L*pi)/h\n",
        "  B = (V-E)*(1.6*(10**-19)) #convert into J\n",
        "  C = math.sqrt(2*m*(B))\n",
        "  P = math.exp(A*C)\n",
        "  P = P * 100\n",
        "  if P > 0.005:\n",
        "    a = P\n",
        "  else:\n",
        "    a = (\"{:e}\".format(P))\n",
        "  return \"probability of tunneling: \" + str(a) + \"%\"\n",
        "#  return m\n",
        "\n",
        "electron = 9.10 * (10**-31)\n",
        "#atom = 1.67 * (10**-27)\n",
        "atom = 1.00784\n",
        "#B = 0.5964216993731775 * (10**6)\n",
        "#A = .596421699373 * (10**6)\n",
        "\n",
        "B = 0.5964216993731775\n",
        "A = .596421699373 \n",
        "\n",
        "C = 44.73412203 * (10**6)\n",
        "D = 44.73412203873649 * (10**6)\n",
        "\n",
        "test4 = POT(A,B,300,1.00784)\n",
        "print(test4)\n",
        "test5 = POT(.596421699373 ,0.5964216993731775,300,1.00784)\n",
        "print(test5)\n",
        "test1a = POT(0.58,0.59,100,1.00784)\n",
        "test1ab = POT(0.589,0.59,100,1.00784)\n",
        "\n",
        "#print tests\n",
        "print(test1a)\n",
        "print(test1ab)\n",
        "\n",
        "\n",
        "#1: https://chem.libretexts.org/Courses/University_of_California_Davis/UCD_Chem_107B%3A_Physical_Chemistry_for_Life_Scientists/Chapters/4%3A_Quantum_Theory/4.09%3A_Quantum-Mechanical_Tunneling\n",
        "#2: https://www.youtube.com/watch?v=1V4-BhzWB5w\n",
        "#3: https://www.numerade.com/ask/question/an-electron-with-kinetic-energy-e-600-ev-is-incident-on-a-barrier-of-width-l-0150-nm-and-height-u-100-ev-a-what-is-the-probability-that-the-electron-tunnels-through-the-barrier-use-911-10-31-54046/"
      ],
      "metadata": {
        "colab": {
          "base_uri": "https://localhost:8080/"
        },
        "id": "64JtK9c9QBkd",
        "outputId": "5b05f453-0963-4511-b3f0-6777ab6b8966"
      },
      "execution_count": null,
      "outputs": [
        {
          "output_type": "stream",
          "name": "stdout",
          "text": [
            "probability of tunneling: 94.60507276594019%\n",
            "probability of tunneling: 94.60507276594019%\n",
            "probability of tunneling: 0.000000e+00%\n",
            "probability of tunneling: 0.000000e+00%\n"
          ]
        }
      ]
    }
  ]
}