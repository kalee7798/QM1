{
  "nbformat": 4,
  "nbformat_minor": 0,
  "metadata": {
    "colab": {
      "provenance": [],
      "mount_file_id": "1I1tb9Sm0Y-pOziQ-zTGDEPm_maVPHBeJ",
      "authorship_tag": "ABX9TyMSqZzd4LqWu+8fzQZydvl4",
      "include_colab_link": true
    },
    "kernelspec": {
      "name": "python3",
      "display_name": "Python 3"
    },
    "language_info": {
      "name": "python"
    }
  },
  "cells": [
    {
      "cell_type": "markdown",
      "metadata": {
        "id": "view-in-github",
        "colab_type": "text"
      },
      "source": [
        "<a href=\"https://colab.research.google.com/github/keptzin/QM1/blob/main/automated.ipynb\" target=\"_parent\"><img src=\"https://colab.research.google.com/assets/colab-badge.svg\" alt=\"Open In Colab\"/></a>"
      ]
    },
    {
      "cell_type": "code",
      "execution_count": 15,
      "metadata": {
        "id": "71Yo7y7ycZpN"
      },
      "outputs": [],
      "source": [
        "import matplotlib as plt\n",
        "import math\n",
        "import decimal\n",
        "from IPython.testing import test\n",
        "from re import M\n",
        "from scipy.optimize import fsolve\n",
        "import numpy as np"
      ]
    },
    {
      "cell_type": "code",
      "source": [
        "#constants\n",
        "e = 1.6 * 10**-19\n",
        "pi = 3.141592654\n",
        "ez = 8.854187817 * 10**-12\n",
        "r0 = 1.2 #fm\n",
        "x = 9 * 10**9\n",
        "h = 6.626 * 10**-34 #(m^2)kg/s [plank's constant]\n",
        "L = 100 #width of barrier\n",
        "#h = 4.135 * (10**-15) #eVs"
      ],
      "metadata": {
        "id": "74u55HNLchWk"
      },
      "execution_count": 16,
      "outputs": []
    },
    {
      "cell_type": "code",
      "source": [
        "element_path = np.loadtxt(\"/element mass and charge - Sheet1.tsv\")\n",
        "\n",
        "mass_element = element_path[:,0]\n",
        "charge_element = element_path[:,1]\n",
        "\n",
        "print (mass_element)\n",
        "print (charge_element)\n"
      ],
      "metadata": {
        "colab": {
          "base_uri": "https://localhost:8080/"
        },
        "id": "IWe1zCRAcbWx",
        "outputId": "da1b60aa-b7c0-487f-e2c6-fd531c0dd81c"
      },
      "execution_count": 26,
      "outputs": [
        {
          "output_type": "stream",
          "name": "stdout",
          "text": [
            "[  1.00784    4.002602   6.941      9.012182  10.811     12.011\n",
            "  14.0067    15.999     18.998403  22.989769  23.985     30.973762\n",
            "  32.065     40.078     55.845     58.6934    58.933195  79.904\n",
            " 131.293    132.90545  137.327    196.96657  200.59     244.      ]\n",
            "[ 1.  2.  3.  4.  5.  6.  7.  8.  9. 11. 12. 15. 16. 20. 26. 28. 27. 35.\n",
            " 54. 55. 56. 79. 80. 94.]\n"
          ]
        }
      ]
    },
    {
      "cell_type": "code",
      "source": [
        "\n",
        "#COMBINED\n",
        "def POT(Z1,Z2,MA,MB): \n",
        "#I is whether input is an isotop or not \n",
        "#E1 is element one name\n",
        "#E2 is element two name\n",
        "#charge 1\n",
        "#charge 2\n",
        "#mass 1\n",
        "#mass 2\n",
        "#E = total kinetic energy in MeV of particle\n",
        "  L = 100\n",
        "  RA = r0 * (MA ** (1/3)) #returns fm\n",
        "  RB = r0 * (MB ** (1/3)) #fm\n",
        "  d = RA + RB\n",
        "  J = (Z1*Z2*(e**2))/(4*pi*ez*(d*(10**-15)))\n",
        "  MeV = J * (6.242 * (10**12)) #height of barrier (MeV)\n",
        "\n",
        "  if MeV > 150:\n",
        "    MeV = MeV * (10**6)\n",
        "    E = MeV\n",
        "    frac, intNum = math.modf(E)\n",
        "    E = str(frac)\n",
        "    E = float(E[0:8]) + 0.0000001\n",
        "    E = int(MeV) + E\n",
        "\n",
        "  elif MeV > 40:\n",
        "    MeV = MeV * (10**6)\n",
        "    E = MeV\n",
        "    frac, intNum = math.modf(E)\n",
        "    E = str(frac)\n",
        "    E = float(E[0:9])\n",
        "    E = int(MeV) + E\n",
        "  else:\n",
        "    MeV = MeV * (10**6)\n",
        "    E = MeV\n",
        "    frac, intNum = math.modf(E)\n",
        "    E = str(frac)\n",
        "    E = float(E[0:8]) \n",
        "    E = int(MeV) + E - 0.0000001\n",
        "\n",
        "  m = MA * (1.6605402 * (10**-27)) #turn into kg\n",
        "  L = L * (10**-12)\n",
        "  A = (-4*L*pi)/h\n",
        "  B = (MeV-E)*(1.6*(10**-19)) #convert into J\n",
        "  C = math.sqrt(2*m*(B))\n",
        "  P = math.exp(A*C)\n",
        "  P = P * 100\n",
        "  E = E * (10**-6)\n",
        "#  E1 = \"hydrogen\"\n",
        "#  E2 = \"hydrogen\"\n",
        "  if P > 0.005:\n",
        "    a = P\n",
        "  else:\n",
        "    a = (\"{:e}\".format(P))\n",
        "\n",
        "  return ('''total kinetic energy used: ''' + str(E) + \" MeV\"\n",
        "'''\n",
        "probability of tunneling: ''' + str(a) + \"%\" + '''\n",
        "''')\n",
        "  \n",
        "Z01 = charge_element[0:-23]\n",
        "Z02 = charge_element[6:-17]\n",
        "\n",
        "\n",
        "M0A = mass_element[0:-23]\n",
        "M0B = mass_element[6:-17]  \n",
        "\n",
        "test1 = POT(Z01, Z02,  M0A, M0B)\n",
        "\n",
        "print (Z01)\n",
        "print (Z02)\n",
        "print (M0A)\n",
        "print (M0B)\n",
        "\n",
        "print (test1)"
      ],
      "metadata": {
        "id": "vMGH9_dme59L",
        "colab": {
          "base_uri": "https://localhost:8080/"
        },
        "outputId": "c7cefea9-4393-4043-c92b-5622ef6c5032"
      },
      "execution_count": 45,
      "outputs": [
        {
          "output_type": "stream",
          "name": "stdout",
          "text": [
            "[1.]\n",
            "[7.]\n",
            "[1.00784]\n",
            "[14.0067]\n",
            "total kinetic energy used: 2.4545319565359 MeV\n",
            "probability of tunneling: 98.58630680341034%\n",
            "\n"
          ]
        }
      ]
    }
  ]
}